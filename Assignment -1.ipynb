{
 "cells": [
  {
   "cell_type": "markdown",
   "id": "0a7e4659-f420-4874-931f-08ca4bf3636f",
   "metadata": {},
   "source": [
    "# Question -1"
   ]
  },
  {
   "cell_type": "code",
   "execution_count": 4,
   "id": "92ba060c-7d60-4453-898f-d7820edeef42",
   "metadata": {},
   "outputs": [],
   "source": [
    "a = \"Mayuresh\""
   ]
  },
  {
   "cell_type": "code",
   "execution_count": 5,
   "id": "345cc39f-1a6b-435c-aa15-b9c121970c1b",
   "metadata": {},
   "outputs": [
    {
     "data": {
      "text/plain": [
       "'Mayuresh'"
      ]
     },
     "execution_count": 5,
     "metadata": {},
     "output_type": "execute_result"
    }
   ],
   "source": [
    "a"
   ]
  },
  {
   "cell_type": "code",
   "execution_count": 6,
   "id": "865e5197-43ab-402c-821c-2ed2fb3a6974",
   "metadata": {},
   "outputs": [
    {
     "data": {
      "text/plain": [
       "str"
      ]
     },
     "execution_count": 6,
     "metadata": {},
     "output_type": "execute_result"
    }
   ],
   "source": [
    "type(a)"
   ]
  },
  {
   "cell_type": "code",
   "execution_count": 7,
   "id": "46514135-18ff-4534-b653-a6a8d76edd8e",
   "metadata": {},
   "outputs": [],
   "source": [
    "b = 123.45"
   ]
  },
  {
   "cell_type": "code",
   "execution_count": 8,
   "id": "32204e12-35cd-43c5-ad3f-f11edea99537",
   "metadata": {},
   "outputs": [
    {
     "data": {
      "text/plain": [
       "123.45"
      ]
     },
     "execution_count": 8,
     "metadata": {},
     "output_type": "execute_result"
    }
   ],
   "source": [
    "b"
   ]
  },
  {
   "cell_type": "code",
   "execution_count": 9,
   "id": "3e74d1f3-eb95-473f-9e60-7bb32df41e2d",
   "metadata": {},
   "outputs": [
    {
     "data": {
      "text/plain": [
       "float"
      ]
     },
     "execution_count": 9,
     "metadata": {},
     "output_type": "execute_result"
    }
   ],
   "source": [
    "type(b)"
   ]
  },
  {
   "cell_type": "code",
   "execution_count": 12,
   "id": "60a78d2f-4aab-4536-b8aa-86a5c60f2863",
   "metadata": {},
   "outputs": [],
   "source": [
    "l = [2 , 4 , 6 , 7 , True , 'Mayuresh' , 8+4j , 123.45]"
   ]
  },
  {
   "cell_type": "code",
   "execution_count": 13,
   "id": "9d08f8be-cc51-4217-b0e8-f111b8dad511",
   "metadata": {},
   "outputs": [
    {
     "data": {
      "text/plain": [
       "[2, 4, 6, 7, True, 'Mayuresh', (8+4j), 123.45]"
      ]
     },
     "execution_count": 13,
     "metadata": {},
     "output_type": "execute_result"
    }
   ],
   "source": [
    "l"
   ]
  },
  {
   "cell_type": "code",
   "execution_count": 14,
   "id": "841c57bb-1a6e-430d-a082-f2d2f565ba08",
   "metadata": {},
   "outputs": [
    {
     "data": {
      "text/plain": [
       "list"
      ]
     },
     "execution_count": 14,
     "metadata": {},
     "output_type": "execute_result"
    }
   ],
   "source": [
    "type(l)"
   ]
  },
  {
   "cell_type": "code",
   "execution_count": 17,
   "id": "93683be9-df19-4405-b00b-ca34995ea492",
   "metadata": {},
   "outputs": [],
   "source": [
    "t = (2 , 4 , 6, 7 , True , 'Mayuresh' , 8+4j , 123.45)"
   ]
  },
  {
   "cell_type": "code",
   "execution_count": 18,
   "id": "f94b9b52-c8b1-4ff8-82de-0133c0ce7c97",
   "metadata": {},
   "outputs": [
    {
     "data": {
      "text/plain": [
       "(2, 4, 6, 7, True, 'Mayuresh', (8+4j), 123.45)"
      ]
     },
     "execution_count": 18,
     "metadata": {},
     "output_type": "execute_result"
    }
   ],
   "source": [
    "t"
   ]
  },
  {
   "cell_type": "code",
   "execution_count": 19,
   "id": "2e98314a-895d-4071-8166-6e0c5a3af340",
   "metadata": {},
   "outputs": [
    {
     "data": {
      "text/plain": [
       "tuple"
      ]
     },
     "execution_count": 19,
     "metadata": {},
     "output_type": "execute_result"
    }
   ],
   "source": [
    "type(t)"
   ]
  },
  {
   "cell_type": "code",
   "execution_count": null,
   "id": "86caed81-0321-4869-b6c4-c45f355e5cbe",
   "metadata": {},
   "outputs": [],
   "source": []
  },
  {
   "cell_type": "markdown",
   "id": "183610e6-395e-4986-aa0c-c3a0347eae93",
   "metadata": {},
   "source": [
    "# Question -2"
   ]
  },
  {
   "cell_type": "code",
   "execution_count": 20,
   "id": "51859519-32ca-46ff-90b0-c084479ec2ce",
   "metadata": {},
   "outputs": [],
   "source": [
    "var1 = ''"
   ]
  },
  {
   "cell_type": "code",
   "execution_count": 21,
   "id": "76523499-d3bd-426c-b060-e992cc951acb",
   "metadata": {},
   "outputs": [
    {
     "data": {
      "text/plain": [
       "''"
      ]
     },
     "execution_count": 21,
     "metadata": {},
     "output_type": "execute_result"
    }
   ],
   "source": [
    "var1"
   ]
  },
  {
   "cell_type": "code",
   "execution_count": 22,
   "id": "5f13b06e-5282-4618-9b93-df2889fac4fd",
   "metadata": {},
   "outputs": [
    {
     "data": {
      "text/plain": [
       "str"
      ]
     },
     "execution_count": 22,
     "metadata": {},
     "output_type": "execute_result"
    }
   ],
   "source": [
    "type(var1)"
   ]
  },
  {
   "cell_type": "code",
   "execution_count": 23,
   "id": "7608136a-3f2f-46bb-9e58-990ef7914649",
   "metadata": {},
   "outputs": [],
   "source": [
    "var2 = '[DS , ML , Python]'"
   ]
  },
  {
   "cell_type": "code",
   "execution_count": 24,
   "id": "095a7cbb-4bb9-474b-adf9-0b2d5baf404d",
   "metadata": {},
   "outputs": [
    {
     "data": {
      "text/plain": [
       "'[DS , ML , Python]'"
      ]
     },
     "execution_count": 24,
     "metadata": {},
     "output_type": "execute_result"
    }
   ],
   "source": [
    "var2"
   ]
  },
  {
   "cell_type": "code",
   "execution_count": 25,
   "id": "e59d3cfe-e8b0-4784-9e90-b7ae51a293d3",
   "metadata": {},
   "outputs": [
    {
     "data": {
      "text/plain": [
       "str"
      ]
     },
     "execution_count": 25,
     "metadata": {},
     "output_type": "execute_result"
    }
   ],
   "source": [
    "type(var2)"
   ]
  },
  {
   "cell_type": "code",
   "execution_count": 26,
   "id": "0a32c16a-7fe9-461a-95ac-502f30959085",
   "metadata": {},
   "outputs": [],
   "source": [
    "var3 = ['DS' , 'ML' , 'Python']"
   ]
  },
  {
   "cell_type": "code",
   "execution_count": 27,
   "id": "e3a791a2-2e49-4919-845f-b1ecb5eccf67",
   "metadata": {},
   "outputs": [
    {
     "data": {
      "text/plain": [
       "['DS', 'ML', 'Python']"
      ]
     },
     "execution_count": 27,
     "metadata": {},
     "output_type": "execute_result"
    }
   ],
   "source": [
    "var3"
   ]
  },
  {
   "cell_type": "code",
   "execution_count": 28,
   "id": "1a4f75b6-a424-4a9e-862f-50e18add1de3",
   "metadata": {},
   "outputs": [
    {
     "data": {
      "text/plain": [
       "list"
      ]
     },
     "execution_count": 28,
     "metadata": {},
     "output_type": "execute_result"
    }
   ],
   "source": [
    "type(var3)"
   ]
  },
  {
   "cell_type": "code",
   "execution_count": 29,
   "id": "baea029e-cd5a-48c8-8a7c-da4628ccc388",
   "metadata": {},
   "outputs": [],
   "source": [
    "var4 = 1"
   ]
  },
  {
   "cell_type": "code",
   "execution_count": 30,
   "id": "3ba9ea07-1c7c-41fb-b56e-35ccf667cf00",
   "metadata": {},
   "outputs": [
    {
     "data": {
      "text/plain": [
       "1"
      ]
     },
     "execution_count": 30,
     "metadata": {},
     "output_type": "execute_result"
    }
   ],
   "source": [
    "var4"
   ]
  },
  {
   "cell_type": "code",
   "execution_count": 31,
   "id": "26ba5ce8-f2b2-4657-b79a-3d24fd38d166",
   "metadata": {},
   "outputs": [
    {
     "data": {
      "text/plain": [
       "int"
      ]
     },
     "execution_count": 31,
     "metadata": {},
     "output_type": "execute_result"
    }
   ],
   "source": [
    "type(var4)"
   ]
  },
  {
   "cell_type": "code",
   "execution_count": null,
   "id": "4dcd9585-0b72-4051-962b-671d81c75449",
   "metadata": {},
   "outputs": [],
   "source": []
  },
  {
   "cell_type": "markdown",
   "id": "1e7cdd5e-0bfa-4ef6-838c-edd453b6fa3f",
   "metadata": {},
   "source": [
    "# Question -3"
   ]
  },
  {
   "cell_type": "code",
   "execution_count": 32,
   "id": "eacc44b6-6825-4d1e-a6c8-dad91a1adf64",
   "metadata": {},
   "outputs": [
    {
     "data": {
      "text/plain": [
       "2.0"
      ]
     },
     "execution_count": 32,
     "metadata": {},
     "output_type": "execute_result"
    }
   ],
   "source": [
    "4 / 2"
   ]
  },
  {
   "cell_type": "raw",
   "id": "ff692222-23d2-42f9-99ec-09a79de44026",
   "metadata": {},
   "source": [
    "this operator is known as division operation it is use for dividation."
   ]
  },
  {
   "cell_type": "code",
   "execution_count": 33,
   "id": "8047ed25-4f14-4366-9bc7-44d6a81cbab7",
   "metadata": {},
   "outputs": [
    {
     "data": {
      "text/plain": [
       "2"
      ]
     },
     "execution_count": 33,
     "metadata": {},
     "output_type": "execute_result"
    }
   ],
   "source": [
    "2 % 4"
   ]
  },
  {
   "cell_type": "raw",
   "id": "108ea24c-1080-41c4-85cc-f9548931a119",
   "metadata": {},
   "source": [
    "this opertor is modulas opeartor it shows the (reminder). it is work between the two available operand."
   ]
  },
  {
   "cell_type": "code",
   "execution_count": 35,
   "id": "c20453ce-c17b-45ac-9864-b6262c8a5534",
   "metadata": {},
   "outputs": [
    {
     "data": {
      "text/plain": [
       "1"
      ]
     },
     "execution_count": 35,
     "metadata": {},
     "output_type": "execute_result"
    }
   ],
   "source": [
    "6//4"
   ]
  },
  {
   "cell_type": "raw",
   "id": "09ad7857-ffa5-41af-9253-4943eb36d139",
   "metadata": {},
   "source": [
    "it is a floor division operator . when we required a integer or need to return a smallet integer less than or equal to in[ut."
   ]
  },
  {
   "cell_type": "code",
   "execution_count": 2,
   "id": "a55d5391-2eb2-43e7-88e0-23efa95e5af8",
   "metadata": {},
   "outputs": [
    {
     "data": {
      "text/plain": [
       "16"
      ]
     },
     "execution_count": 2,
     "metadata": {},
     "output_type": "execute_result"
    }
   ],
   "source": [
    "4 ** 2"
   ]
  },
  {
   "cell_type": "markdown",
   "id": "e5c46886-d927-4df0-98ad-15889d1e1aac",
   "metadata": {},
   "source": [
    "it is known as power / exponent operator"
   ]
  },
  {
   "cell_type": "markdown",
   "id": "83006f12-b614-406b-af2a-82393f135ab8",
   "metadata": {},
   "source": [
    "# Question -4"
   ]
  },
  {
   "cell_type": "code",
   "execution_count": 3,
   "id": "b89f7a5b-cf8c-4fd9-bd94-58a279f23a2a",
   "metadata": {},
   "outputs": [],
   "source": [
    "l = [2,3,4,5,6,\"mayur\", True, 45.45, \"pwskills\",123.45]"
   ]
  },
  {
   "cell_type": "code",
   "execution_count": 4,
   "id": "1346d645-40b2-41af-aa46-dd10e482185c",
   "metadata": {},
   "outputs": [
    {
     "name": "stdout",
     "output_type": "stream",
     "text": [
      "<class 'int'>\n",
      "<class 'int'>\n",
      "<class 'int'>\n",
      "<class 'int'>\n",
      "<class 'int'>\n",
      "<class 'str'>\n",
      "<class 'bool'>\n",
      "<class 'float'>\n",
      "<class 'str'>\n",
      "<class 'float'>\n"
     ]
    }
   ],
   "source": [
    "for i in l :\n",
    "    print(type(i))"
   ]
  },
  {
   "cell_type": "markdown",
   "id": "a176f8f3-fc88-4898-bfbf-5f5b685f45b3",
   "metadata": {},
   "source": [
    "# Question -5"
   ]
  },
  {
   "cell_type": "raw",
   "id": "84ccb5e2-20fd-4342-b94d-721d664711ae",
   "metadata": {},
   "source": [
    "A = 120"
   ]
  },
  {
   "cell_type": "code",
   "execution_count": 1,
   "id": "bfe14998-30b6-4209-b272-44bfe1cc44b7",
   "metadata": {},
   "outputs": [],
   "source": [
    "B = 40"
   ]
  },
  {
   "cell_type": "code",
   "execution_count": 2,
   "id": "9fbcc0e7-2e6a-429d-bdee-92583950a35e",
   "metadata": {},
   "outputs": [
    {
     "name": "stdin",
     "output_type": "stream",
     "text": [
      " 120\n"
     ]
    }
   ],
   "source": [
    "A =int(input())"
   ]
  },
  {
   "cell_type": "code",
   "execution_count": 7,
   "id": "3a775d2b-99d6-48d0-aa80-aadc5777713c",
   "metadata": {},
   "outputs": [
    {
     "name": "stdin",
     "output_type": "stream",
     "text": [
      " 40\n"
     ]
    }
   ],
   "source": [
    "B =int(input())"
   ]
  },
  {
   "cell_type": "code",
   "execution_count": 8,
   "id": "fdbdf898-32bf-4807-9b82-1eab2e700aac",
   "metadata": {},
   "outputs": [
    {
     "ename": "NameError",
     "evalue": "name 'A' is not defined",
     "output_type": "error",
     "traceback": [
      "\u001b[0;31m---------------------------------------------------------------------------\u001b[0m",
      "\u001b[0;31mNameError\u001b[0m                                 Traceback (most recent call last)",
      "Cell \u001b[0;32mIn[8], line 1\u001b[0m\n\u001b[0;32m----> 1\u001b[0m \u001b[43mA\u001b[49m\u001b[38;5;241m%\u001b[39mB\n",
      "\u001b[0;31mNameError\u001b[0m: name 'A' is not defined"
     ]
    }
   ],
   "source": [
    "A%B"
   ]
  },
  {
   "cell_type": "markdown",
   "id": "943ffbba-4898-4b84-bc4f-bcd7af96bfc4",
   "metadata": {},
   "source": [
    "# Question -6"
   ]
  },
  {
   "cell_type": "code",
   "execution_count": 5,
   "id": "82b43fec-9e8c-412d-8ba9-9cb8e5e3302e",
   "metadata": {},
   "outputs": [],
   "source": [
    " l = [1,2,3,4,5,6,7,8,9,0,12,23,34,45,56,67,78,89,90,49,98,87,76,43,54,65]"
   ]
  },
  {
   "cell_type": "code",
   "execution_count": 6,
   "id": "c38daae4-ad31-42cd-a3d7-22aa36ed114b",
   "metadata": {},
   "outputs": [
    {
     "name": "stdout",
     "output_type": "stream",
     "text": [
      "<class 'int'>\n",
      "<class 'int'>\n",
      "<class 'int'>\n",
      "<class 'int'>\n",
      "<class 'int'>\n",
      "<class 'int'>\n",
      "<class 'int'>\n",
      "<class 'int'>\n",
      "<class 'int'>\n",
      "<class 'int'>\n",
      "<class 'int'>\n",
      "<class 'int'>\n",
      "<class 'int'>\n",
      "<class 'int'>\n",
      "<class 'int'>\n",
      "<class 'int'>\n",
      "<class 'int'>\n",
      "<class 'int'>\n",
      "<class 'int'>\n",
      "<class 'int'>\n",
      "<class 'int'>\n",
      "<class 'int'>\n",
      "<class 'int'>\n",
      "<class 'int'>\n",
      "<class 'int'>\n",
      "<class 'int'>\n",
      "False\n"
     ]
    }
   ],
   "source": [
    "for i in l :\n",
    "    print(type(i))\n",
    "    if i == 25:\n",
    "        break\n",
    "else:\n",
    "    print(i%3==0)"
   ]
  },
  {
   "cell_type": "markdown",
   "id": "a23277e9-8f68-4df5-9523-d6d7cb11a134",
   "metadata": {},
   "source": [
    "# Question -7"
   ]
  },
  {
   "cell_type": "raw",
   "id": "25f80884-c482-4357-9863-984156725cce",
   "metadata": {},
   "source": [
    "Mutability - We can modify the state of a mutable object after it is created."
   ]
  },
  {
   "cell_type": "code",
   "execution_count": 31,
   "id": "cd34c26d-bfe4-4d84-a6d3-8fa9defa4367",
   "metadata": {},
   "outputs": [],
   "source": [
    "s = \"sudh\""
   ]
  },
  {
   "cell_type": "code",
   "execution_count": 32,
   "id": "37d112c8-9771-4b91-ae1a-65064b256bd6",
   "metadata": {},
   "outputs": [],
   "source": [
    "s1 = 'sudhanshu'"
   ]
  },
  {
   "cell_type": "code",
   "execution_count": 33,
   "id": "375b5fdf-6e05-4d2c-b9ca-5242a17fe4fd",
   "metadata": {},
   "outputs": [
    {
     "data": {
      "text/plain": [
       "str"
      ]
     },
     "execution_count": 33,
     "metadata": {},
     "output_type": "execute_result"
    }
   ],
   "source": [
    "type(s)"
   ]
  },
  {
   "cell_type": "code",
   "execution_count": 34,
   "id": "bf410552-8c02-43ad-a0ee-649a6eec1442",
   "metadata": {},
   "outputs": [
    {
     "data": {
      "text/plain": [
       "str"
      ]
     },
     "execution_count": 34,
     "metadata": {},
     "output_type": "execute_result"
    }
   ],
   "source": [
    "type(s1)"
   ]
  },
  {
   "cell_type": "code",
   "execution_count": 35,
   "id": "a4a94b55-1b45-4d44-9920-656dc62f5582",
   "metadata": {},
   "outputs": [
    {
     "data": {
      "text/plain": [
       "'sudh'"
      ]
     },
     "execution_count": 35,
     "metadata": {},
     "output_type": "execute_result"
    }
   ],
   "source": [
    "s"
   ]
  },
  {
   "cell_type": "code",
   "execution_count": 36,
   "id": "fc67a77f-967f-47d6-be9b-2c3a5dffaf91",
   "metadata": {},
   "outputs": [
    {
     "ename": "TypeError",
     "evalue": "'str' object does not support item assignment",
     "output_type": "error",
     "traceback": [
      "\u001b[0;31m---------------------------------------------------------------------------\u001b[0m",
      "\u001b[0;31mTypeError\u001b[0m                                 Traceback (most recent call last)",
      "Cell \u001b[0;32mIn[36], line 1\u001b[0m\n\u001b[0;32m----> 1\u001b[0m \u001b[43ms\u001b[49m\u001b[43m[\u001b[49m\u001b[38;5;241;43m1\u001b[39;49m\u001b[43m]\u001b[49m \u001b[38;5;241m=\u001b[39m \u001b[38;5;124m'\u001b[39m\u001b[38;5;124ma\u001b[39m\u001b[38;5;124m'\u001b[39m\n",
      "\u001b[0;31mTypeError\u001b[0m: 'str' object does not support item assignment"
     ]
    }
   ],
   "source": [
    "s[1] = 'a'"
   ]
  },
  {
   "cell_type": "raw",
   "id": "a66156ac-3655-4941-a349-487ba418d065",
   "metadata": {},
   "source": [
    "Imutability - We can't modify the state of the object after it is created."
   ]
  },
  {
   "cell_type": "code",
   "execution_count": 38,
   "id": "cb9af9a7-da2a-4460-9c17-169a3bab4cf7",
   "metadata": {},
   "outputs": [],
   "source": [
    "l =[2,3,4,5,6,\"sudh\", 6+8j,True, 45.45]"
   ]
  },
  {
   "cell_type": "code",
   "execution_count": 39,
   "id": "025b14b3-9c12-4f1f-a475-0defa391deb1",
   "metadata": {},
   "outputs": [
    {
     "data": {
      "text/plain": [
       "list"
      ]
     },
     "execution_count": 39,
     "metadata": {},
     "output_type": "execute_result"
    }
   ],
   "source": [
    "type(l)"
   ]
  },
  {
   "cell_type": "code",
   "execution_count": 40,
   "id": "40962ae2-367e-4f99-b703-0303a4780b2f",
   "metadata": {},
   "outputs": [
    {
     "data": {
      "text/plain": [
       "'s'"
      ]
     },
     "execution_count": 40,
     "metadata": {},
     "output_type": "execute_result"
    }
   ],
   "source": [
    "s[0]"
   ]
  },
  {
   "cell_type": "code",
   "execution_count": 41,
   "id": "3f3da1e0-ee64-4753-b263-29741999307b",
   "metadata": {},
   "outputs": [
    {
     "data": {
      "text/plain": [
       "'d'"
      ]
     },
     "execution_count": 41,
     "metadata": {},
     "output_type": "execute_result"
    }
   ],
   "source": [
    "s[2]"
   ]
  },
  {
   "cell_type": "code",
   "execution_count": 42,
   "id": "399b5235-5ab9-47dc-83fd-189647095c15",
   "metadata": {},
   "outputs": [
    {
     "data": {
      "text/plain": [
       "[2, 3, 4, 5, 6, 'sudh', (6+8j), True, 45.45]"
      ]
     },
     "execution_count": 42,
     "metadata": {},
     "output_type": "execute_result"
    }
   ],
   "source": [
    "l"
   ]
  },
  {
   "cell_type": "code",
   "execution_count": 43,
   "id": "7616bde3-df00-4b40-975b-ca4a0bd3f900",
   "metadata": {},
   "outputs": [
    {
     "data": {
      "text/plain": [
       "(6+8j)"
      ]
     },
     "execution_count": 43,
     "metadata": {},
     "output_type": "execute_result"
    }
   ],
   "source": [
    "l[6]"
   ]
  },
  {
   "cell_type": "code",
   "execution_count": 45,
   "id": "fec7d4c4-061f-484f-bcf0-49c15d13b2d6",
   "metadata": {},
   "outputs": [
    {
     "data": {
      "text/plain": [
       "True"
      ]
     },
     "execution_count": 45,
     "metadata": {},
     "output_type": "execute_result"
    }
   ],
   "source": [
    "l[-2]"
   ]
  },
  {
   "cell_type": "code",
   "execution_count": 46,
   "id": "d0867ae4-b617-433d-90c2-542219a92e8d",
   "metadata": {},
   "outputs": [],
   "source": [
    "l[1] = 100"
   ]
  },
  {
   "cell_type": "code",
   "execution_count": 47,
   "id": "17dc9c23-ba6f-452b-88f5-06a1c61b18b6",
   "metadata": {},
   "outputs": [
    {
     "data": {
      "text/plain": [
       "[2, 100, 4, 5, 6, 'sudh', (6+8j), True, 45.45]"
      ]
     },
     "execution_count": 47,
     "metadata": {},
     "output_type": "execute_result"
    }
   ],
   "source": [
    "l"
   ]
  },
  {
   "cell_type": "code",
   "execution_count": 49,
   "id": "22fa35f6-c4f3-4d03-adb5-89a671925f09",
   "metadata": {},
   "outputs": [],
   "source": [
    "l[6] = 'Heyy'"
   ]
  },
  {
   "cell_type": "code",
   "execution_count": 50,
   "id": "66d17cf6-481d-4bac-9bc9-ee10e4e857b8",
   "metadata": {},
   "outputs": [
    {
     "data": {
      "text/plain": [
       "[2, 100, 4, 5, 6, 'sudh', 'Heyy', True, 45.45]"
      ]
     },
     "execution_count": 50,
     "metadata": {},
     "output_type": "execute_result"
    }
   ],
   "source": [
    "l"
   ]
  },
  {
   "cell_type": "code",
   "execution_count": null,
   "id": "42458282-d96c-4fea-b1cf-0b282b202bb8",
   "metadata": {},
   "outputs": [],
   "source": []
  }
 ],
 "metadata": {
  "kernelspec": {
   "display_name": "Python 3 (ipykernel)",
   "language": "python",
   "name": "python3"
  },
  "language_info": {
   "codemirror_mode": {
    "name": "ipython",
    "version": 3
   },
   "file_extension": ".py",
   "mimetype": "text/x-python",
   "name": "python",
   "nbconvert_exporter": "python",
   "pygments_lexer": "ipython3",
   "version": "3.10.8"
  }
 },
 "nbformat": 4,
 "nbformat_minor": 5
}
